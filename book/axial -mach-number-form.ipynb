{
 "cells": [
  {
   "cell_type": "markdown",
   "id": "cb2227ed",
   "metadata": {},
   "source": [
    "# Axial Mach Number Form\n",
    "\n",
    "In the previous section, we developed an equation for the axial velocity that involved two parameters from the original study. In this section, we will convert the axial velocity equation into an equivalent form using the axial *Mach Number*."
   ]
  },
  {
   "cell_type": "markdown",
   "id": "eb6ee762",
   "metadata": {},
   "source": [
    "Here is the original quadratic form of the axial velocity equation:\n",
    "\\begin{equation}\n",
    "u^2 \\left[ a \\frac{\\gamma + 1}{2\\gamma}\\right] \\\n",
    "    + u\\left[ -b \\right] \\\n",
    "    + \\left[ a k \\frac{\\gamma - 1}{\\gamma} \\right]\n",
    "\\end{equation}"
   ]
  },
  {
   "cell_type": "markdown",
   "id": "a6a37f4e",
   "metadata": {},
   "source": [
    "Using the definition of the axial *Mach Number: we get these:\n",
    "\n",
    "\\begin{align}\n",
    "V_s &= \\sqrt{\\frac{\\gamma p}{\\rho}} \\\\\n",
    "u &= M_x V_s \\\\\n",
    "u^2 &= M_x^2 V_s^2\n",
    "\\end{align}\n",
    "\n",
    "Therefore, equation (1) becomes:\n",
    "\n",
    "\\begin{equation}\n",
    "M_x^2 \\left[V_s^2 a \\frac{\\gamma + 1}{2\\gamma}\\right] \\\n",
    "    + M_x \\left[ -b V_s \\right] \\\n",
    "    + \\left[ a k \\frac{\\gamma - 1}{\\gamma} \\right]\n",
    "\\end{equation}"
   ]
  },
  {
   "cell_type": "markdown",
   "id": "4bf020a4",
   "metadata": {},
   "source": [
    "\\begin{equation}\n",
    "\\frac{\\gamma p}{\\rho} = T\\frac{\\gamma - 1}{2} = V_s^2\n",
    "\\end{equation}"
   ]
  },
  {
   "cell_type": "markdown",
   "id": "c69bdd24",
   "metadata": {},
   "source": [
    "From earlier analysis: $T$ is given by:\n",
    "\n",
    "\\begin{equation}\n",
    "T = \\frac{k}{1 + M_x^2\\frac{\\gamma - 1}{2}} = \\frac{2V_s^2}{\\gamma - 1}\n",
    "\\end{equation}"
   ]
  },
  {
   "cell_type": "markdown",
   "id": "fbb1e98f",
   "metadata": {},
   "source": [
    "This gives:\n",
    "\n",
    "\\begin{equation}\n",
    "V_s^2 = \\frac{(\\gamma - 1)k}{2(1 + M_x^2\\frac{\\gamma-1}{2})}\n",
    "\\end{equation}\n",
    "\n"
   ]
  },
  {
   "cell_type": "markdown",
   "id": "66f79369",
   "metadata": {},
   "source": [
    "Again, this is a quadratic equation in $M_x$. The solution to this equation is:\n",
    "    \n",
    "\\begin{equation}\n",
    "M_x = \\frac{b V_s \\pm \\sqrt{(bV_s)^2 - 2\\frac{\\gamma^2-1}{\\gamma^2}a^2V_sk}}{a V_s^2 \\frac{\\gamma + 1}{\\gamma}}\n",
    "\\end{equation}    "
   ]
  },
  {
   "cell_type": "markdown",
   "id": "1458f7c7",
   "metadata": {},
   "source": [
    "\\begin{equation}\n",
    "u = \\frac{b \\pm \\sqrt{b^2 - 2\\frac{\\gamma^2-1}{\\gamma^2}a^2k}}{a \\frac{\\gamma + 1}{\\gamma}}\n",
    "\\end{equation}"
   ]
  },
  {
   "cell_type": "markdown",
   "id": "7a22dae7",
   "metadata": {},
   "source": []
  }
 ],
 "metadata": {
  "kernelspec": {
   "display_name": "Python 3 (ipykernel)",
   "language": "python",
   "name": "python3"
  },
  "language_info": {
   "codemirror_mode": {
    "name": "ipython",
    "version": 3
   },
   "file_extension": ".py",
   "mimetype": "text/x-python",
   "name": "python",
   "nbconvert_exporter": "python",
   "pygments_lexer": "ipython3",
   "version": "3.11.2"
  }
 },
 "nbformat": 4,
 "nbformat_minor": 5
}
