{
 "cells": [
  {
   "cell_type": "code",
   "execution_count": 1,
   "id": "d87c0ac6",
   "metadata": {},
   "outputs": [],
   "source": [
    "import sympy as sp"
   ]
  },
  {
   "cell_type": "code",
   "execution_count": 2,
   "id": "f77dc6c0",
   "metadata": {},
   "outputs": [],
   "source": [
    "rho,u,v,p,T,H = sp.symbols('rho u v p T H')"
   ]
  },
  {
   "cell_type": "code",
   "execution_count": 6,
   "id": "04546393",
   "metadata": {},
   "outputs": [],
   "source": [
    "a,b,c,k,gamma = sp.symbols('a b c k gamma')"
   ]
  },
  {
   "cell_type": "code",
   "execution_count": 7,
   "id": "140208a8",
   "metadata": {},
   "outputs": [],
   "source": [
    "a = rho * u\n",
    "b = rho*u**2 + p\n",
    "c = rho*u*v"
   ]
  },
  {
   "cell_type": "code",
   "execution_count": 12,
   "id": "ce8db0ea",
   "metadata": {},
   "outputs": [
    {
     "data": {
      "text/latex": [
       "$\\displaystyle \\frac{T \\rho \\left(\\gamma - 1\\right)}{\\gamma}$"
      ],
      "text/plain": [
       "T*rho*(gamma - 1)/gamma"
      ]
     },
     "execution_count": 12,
     "metadata": {},
     "output_type": "execute_result"
    }
   ],
   "source": [
    "p_s = (gamma - 1)/gamma * rho * T\n",
    "p_s"
   ]
  },
  {
   "cell_type": "code",
   "execution_count": 11,
   "id": "4019f1d3",
   "metadata": {},
   "outputs": [
    {
     "data": {
      "text/latex": [
       "$\\displaystyle H - 0.5 u^{2} - 0.5 v^{2}$"
      ],
      "text/plain": [
       "H - 0.5*u**2 - 0.5*v**2"
      ]
     },
     "execution_count": 11,
     "metadata": {},
     "output_type": "execute_result"
    }
   ],
   "source": [
    "T_s = H - 1/2.0*(u**2 + v**2)\n",
    "T_s"
   ]
  },
  {
   "cell_type": "code",
   "execution_count": 14,
   "id": "268c531a",
   "metadata": {},
   "outputs": [
    {
     "data": {
      "text/latex": [
       "$\\displaystyle \\frac{\\rho \\left(\\gamma - 1\\right) \\left(H - 0.5 u^{2} - 0.5 v^{2}\\right)}{\\gamma}$"
      ],
      "text/plain": [
       "rho*(gamma - 1)*(H - 0.5*u**2 - 0.5*v**2)/gamma"
      ]
     },
     "execution_count": 14,
     "metadata": {},
     "output_type": "execute_result"
    }
   ],
   "source": [
    "p_s2 = p_s.subs(T,T_s)\n",
    "p_s2"
   ]
  },
  {
   "cell_type": "code",
   "execution_count": 15,
   "id": "983fd1cc",
   "metadata": {},
   "outputs": [
    {
     "data": {
      "text/latex": [
       "$\\displaystyle \\rho u^{2} + \\frac{\\rho \\left(\\gamma - 1\\right) \\left(H - 0.5 u^{2} - 0.5 v^{2}\\right)}{\\gamma}$"
      ],
      "text/plain": [
       "rho*u**2 + rho*(gamma - 1)*(H - 0.5*u**2 - 0.5*v**2)/gamma"
      ]
     },
     "execution_count": 15,
     "metadata": {},
     "output_type": "execute_result"
    }
   ],
   "source": [
    "b_s = b.subs(p,p_s2)\n",
    "b_s"
   ]
  },
  {
   "cell_type": "code",
   "execution_count": 19,
   "id": "7b385831",
   "metadata": {},
   "outputs": [
    {
     "data": {
      "text/latex": [
       "$\\displaystyle \\frac{\\rho \\left(\\gamma u^{2} - \\left(\\gamma - 1\\right) \\left(- H + 0.5 u^{2} + 0.5 v^{2}\\right)\\right)}{\\gamma}$"
      ],
      "text/plain": [
       "rho*(gamma*u**2 - (gamma - 1)*(-H + 0.5*u**2 + 0.5*v**2))/gamma"
      ]
     },
     "execution_count": 19,
     "metadata": {},
     "output_type": "execute_result"
    }
   ],
   "source": [
    "b_s.simplify()"
   ]
  },
  {
   "cell_type": "code",
   "execution_count": null,
   "id": "7ce96abf",
   "metadata": {},
   "outputs": [],
   "source": []
  }
 ],
 "metadata": {
  "kernelspec": {
   "display_name": "Python 3 (ipykernel)",
   "language": "python",
   "name": "python3"
  },
  "language_info": {
   "codemirror_mode": {
    "name": "ipython",
    "version": 3
   },
   "file_extension": ".py",
   "mimetype": "text/x-python",
   "name": "python",
   "nbconvert_exporter": "python",
   "pygments_lexer": "ipython3",
   "version": "3.11.2"
  }
 },
 "nbformat": 4,
 "nbformat_minor": 5
}
