{
 "cells": [
  {
   "cell_type": "markdown",
   "id": "f348a8ab",
   "metadata": {},
   "source": [
    "# Manual Solver Derivation"
   ]
  },
  {
   "cell_type": "markdown",
   "id": "1dc7da01",
   "metadata": {},
   "source": [
    "We start off by defining the primary solver variables:\n",
    "\n",
    "\\begin{align}\n",
    "a &= \\rho u \\\\\n",
    "b &= \\rho u^2 + p \\\\\n",
    "c &= \\rho u v\n",
    "\\end{align}"
   ]
  },
  {
   "cell_type": "markdown",
   "id": "90749f6e",
   "metadata": {},
   "source": [
    "Next, we define a few supporting equations:\n",
    "\n",
    "\\begin{align}\n",
    "p &= \\frac{\\gamma - 1}{\\gamma} \\rho T \\\\\n",
    "H_\\infty &= T + \\frac{1}{2}( u^2 + v^2 )\n",
    "\\end{align}"
   ]
  },
  {
   "cell_type": "markdown",
   "id": "0c1f5927",
   "metadata": {},
   "source": [
    "Elnate $T$ from equation (4) to get:\n",
    "\n",
    "\\begin{equation}\n",
    "p = \\frac{\\gamma - 1}{\\gamma} \\rho \\bigl( H_\\infty - \\frac{1}{2}( u^2 + v^2)\\bigr)\n",
    "\\end{equation}"
   ]
  },
  {
   "cell_type": "markdown",
   "id": "89b5daf0",
   "metadata": {},
   "source": [
    "\n",
    "ELiminating $p$ from equation (2) gives:\n",
    "\n",
    "\\begin{align}\n",
    "b &= \\rho u^2 \\\n",
    "    + \\frac{\\gamma - 1}{\\gamma} \\rho H_\\infty \\\n",
    "    - \\frac{\\gamma - 1}{2\\gamma} \\rho u^2 \\\n",
    "    - \\frac{\\gamma - 1}{2\\gamma} \\rho v^2 \\\\\n",
    "  &= \\rho \\left[ u^2 \\bigl( 1 - \\frac{\\gamma - 1}{2\\gamma}\\bigr) \\\n",
    "      + \\frac{\\gamma - 1}{\\gamma} H_\\infty \\\n",
    "      - \\frac{\\gamma - 1}{2\\gamma} v^2 \\right]\n",
    "\\end{align}"
   ]
  },
  {
   "cell_type": "markdown",
   "id": "9b67b04d",
   "metadata": {},
   "source": [
    "Introduce a new parameter $k$ as:\n",
    "\n",
    "\\begin{equation}\n",
    "k = H_\\infty - \\frac{v^2}{2}\n",
    "\\end{equation}"
   ]
  },
  {
   "cell_type": "markdown",
   "id": "6da4bf0d",
   "metadata": {},
   "source": [
    "Substituting this parameter into equation (8) gives:\n",
    "\n",
    "\\begin{equation}\n",
    "b = \\rho \\left[ u^2 \\frac{\\gamma + 1}{2\\gamma} \\\n",
    "      + \\frac{\\gamma - 1}{\\gamma} k \\right]    \n",
    "\\end{equation}"
   ]
  },
  {
   "cell_type": "markdown",
   "id": "8647c203",
   "metadata": {},
   "source": [
    "Noting that $\\rho = \\frac{a}{u}$ we get:\n",
    "\n",
    "\\begin{equation}\n",
    "b u = a \\left[u^2 \\frac{\\gamma + 1}{2\\gamma} + \\frac{\\gamma - 1}{\\gamma} k \\right]\n",
    "\\end{equation}"
   ]
  },
  {
   "cell_type": "markdown",
   "id": "14149cf2",
   "metadata": {},
   "source": [
    "From this equation, we can generate a standard quadratic equation in $u$:\n",
    "\n",
    "\\begin{equation}\n",
    "u^2 \\left[ a \\frac{\\gamma + 1}{2\\gamma}\\right] \\\n",
    "    + u\\left[ -b \\right] \\\n",
    "    + \\left[ a k \\frac{\\gamma - 1}{\\gamma} \\right]\n",
    "\\end{equation}"
   ]
  },
  {
   "cell_type": "markdown",
   "id": "737e5930",
   "metadata": {},
   "source": [
    "The solution to this equation is:\n",
    "\n",
    "\\begin{equation}\n",
    "u = \\frac{b \\pm \\sqrt{b^2 - 2\\frac{\\gamma^2-1}{\\gamma^2}a^2k}}{a \\frac{\\gamma + 1}{\\gamma}}\n",
    "\\end{equation}"
   ]
  },
  {
   "cell_type": "markdown",
   "id": "1f1d6859",
   "metadata": {},
   "source": [
    "## Using the Axial Mach Number"
   ]
  },
  {
   "cell_type": "markdown",
   "id": "f3082462",
   "metadata": {},
   "source": [
    "In the original study, the solver code solved for $M_x^2$ and not $u$ directly. The code use a second parameter $\\Phi$ defined as\n",
    "\n",
    "\\begin{equation}\n",
    "\\Phi = \\frac{2(\\gamma - 1)a^2k}{\\gamma b^2}\n",
    "\\end{equation}"
   ]
  },
  {
   "cell_type": "markdown",
   "id": "009305f5",
   "metadata": {},
   "source": [
    "\\begin{align}\n",
    "rad &= \\sqrt{1 - \\Phi - \\frac{\\Phi}{\\gamma}} = \\sqrt{1 - \\frac{\\Phi(\\gamma + 1)}{\\gamma}} \\\\\n",
    "den &= \\gamma \\Phi - (\\gamma - 1)\n",
    "\\end{align}"
   ]
  },
  {
   "cell_type": "markdown",
   "id": "2f57e738",
   "metadata": {},
   "source": [
    "The equation from the solver code looks like this:\n",
    "\n",
    "\\begin{equation}\n",
    "M_x^2 = \\frac{1 - \\Phi + rad}{den}\n",
    "\\end{equation}"
   ]
  },
  {
   "cell_type": "markdown",
   "id": "44db6539",
   "metadata": {},
   "source": [
    "Let's look at the radical in equation (13)\n",
    "\\begin{equation}\n",
    "b^2 - 2\\frac{\\gamma^2-1}{\\gamma^2}a^2k\n",
    "\\end{equation}"
   ]
  },
  {
   "cell_type": "markdown",
   "id": "cc5d6e5f",
   "metadata": {},
   "source": [
    "This can be written using $\\Phi$ as:\n",
    "\n",
    "\\begin{equation}\n",
    "b^2\\Bigl(1 - \\frac{\\Phi(\\gamma + 1)}{\\gamma}\\Bigr)\n",
    "\\end{equation}"
   ]
  },
  {
   "cell_type": "markdown",
   "id": "11c6a417",
   "metadata": {},
   "source": [
    "### Validating Equation (10)"
   ]
  },
  {
   "cell_type": "code",
   "execution_count": 2,
   "id": "3f86376f",
   "metadata": {},
   "outputs": [],
   "source": [
    "import sympy as sp\n",
    "a,b,k,Phi,gamma = sp.symbols('a b k Phi gamma')"
   ]
  },
  {
   "cell_type": "code",
   "execution_count": 3,
   "id": "20bd140b",
   "metadata": {},
   "outputs": [
    {
     "data": {
      "text/latex": [
       "$\\displaystyle b^{2} \\left(- \\frac{\\Phi \\left(\\gamma + 1\\right)}{\\gamma} + 1\\right)$"
      ],
      "text/plain": [
       "b**2*(-Phi*(gamma + 1)/gamma + 1)"
      ]
     },
     "execution_count": 3,
     "metadata": {},
     "output_type": "execute_result"
    }
   ],
   "source": [
    "eq1 = b**2*(1 - Phi*(gamma + 1)/gamma)\n",
    "eq1"
   ]
  },
  {
   "cell_type": "code",
   "execution_count": 4,
   "id": "eb3d4f02",
   "metadata": {},
   "outputs": [
    {
     "data": {
      "text/latex": [
       "$\\displaystyle - \\frac{a^{2} k \\left(2 \\gamma^{2} - 2\\right)}{\\gamma^{2}} + b^{2}$"
      ],
      "text/plain": [
       "-a**2*k*(2*gamma**2 - 2)/gamma**2 + b**2"
      ]
     },
     "execution_count": 4,
     "metadata": {},
     "output_type": "execute_result"
    }
   ],
   "source": [
    "eq2 = b**2 - 2*(gamma**2 - 1)/gamma**2*a**2*k\n",
    "eq2"
   ]
  },
  {
   "cell_type": "code",
   "execution_count": 5,
   "id": "c7bbadd4",
   "metadata": {},
   "outputs": [
    {
     "data": {
      "text/latex": [
       "$\\displaystyle - \\Phi b^{2} - \\frac{\\Phi b^{2}}{\\gamma} + 2 a^{2} k - \\frac{2 a^{2} k}{\\gamma^{2}}$"
      ],
      "text/plain": [
       "-Phi*b**2 - Phi*b**2/gamma + 2*a**2*k - 2*a**2*k/gamma**2"
      ]
     },
     "execution_count": 5,
     "metadata": {},
     "output_type": "execute_result"
    }
   ],
   "source": [
    "eq3 = eq1 - eq2\n",
    "eq3.simplify()"
   ]
  },
  {
   "cell_type": "code",
   "execution_count": 6,
   "id": "7e77d856",
   "metadata": {},
   "outputs": [
    {
     "data": {
      "text/latex": [
       "$\\displaystyle \\frac{a^{2} k \\left(2 \\gamma - 2\\right)}{b^{2} \\gamma}$"
      ],
      "text/plain": [
       "a**2*k*(2*gamma - 2)/(b**2*gamma)"
      ]
     },
     "execution_count": 6,
     "metadata": {},
     "output_type": "execute_result"
    }
   ],
   "source": [
    "Phi_s = 2 * (gamma - 1)*a**2*k/(gamma*b**2)\n",
    "Phi_s"
   ]
  },
  {
   "cell_type": "code",
   "execution_count": 7,
   "id": "350d7c76",
   "metadata": {},
   "outputs": [
    {
     "data": {
      "text/latex": [
       "$\\displaystyle 0$"
      ],
      "text/plain": [
       "0"
      ]
     },
     "execution_count": 7,
     "metadata": {},
     "output_type": "execute_result"
    }
   ],
   "source": [
    "eq4 = eq3.subs(Phi,Phi_s)\n",
    "eq4.simplify()"
   ]
  },
  {
   "cell_type": "markdown",
   "id": "c676354b",
   "metadata": {},
   "source": [
    "This result confirms that equation (19) is correct.\n",
    "\n",
    "Therefore, we can rewrite equation (9) as follows:\n",
    "\n",
    "\\begin{align}\n",
    "u &= \\frac{b \\pm b\\sqrt{\\Bigl(1 - \\frac{\\Phi(\\gamma + 1)}{\\gamma}\\Bigr)}}{a \\frac{\\gamma + 1}{\\gamma}} \\\\\n",
    "  &= \\frac{b \\pm b\\sqrt{\\Bigl(1 - \\frac{\\Phi(\\gamma + 1)}{\\gamma}\\Bigr)}}{a \\frac{\\gamma + 1}{\\gamma}} \\\\\n",
    "  &= \\frac{b \\pm b(rad)}{a\\frac{\\gamma+1}{\\gamma}}\n",
    "\\end{align}"
   ]
  },
  {
   "cell_type": "markdown",
   "id": "b674186f",
   "metadata": {},
   "source": [
    "For this study, we will be keeping the first point away from the body supersonic, so the plus sign will be used.\n",
    "\n",
    "\\begin{equation}\n",
    "u = \\frac{b(1 + rad)}{a\\frac{\\gamma + 1}{\\gamma}}\n",
    "\\end{equation}"
   ]
  },
  {
   "cell_type": "code",
   "execution_count": 8,
   "id": "8a5e995e",
   "metadata": {},
   "outputs": [],
   "source": [
    "rad = sp.symbols('rad')"
   ]
  },
  {
   "cell_type": "code",
   "execution_count": 11,
   "id": "4757c66f",
   "metadata": {},
   "outputs": [
    {
     "data": {
      "text/latex": [
       "$\\displaystyle \\frac{b \\gamma \\left(rad + 1\\right)}{a \\left(\\gamma + 1\\right)}$"
      ],
      "text/plain": [
       "b*gamma*(rad + 1)/(a*(gamma + 1))"
      ]
     },
     "execution_count": 11,
     "metadata": {},
     "output_type": "execute_result"
    }
   ],
   "source": [
    "equ_u = b*(1 + rad)/(a * (gamma + 1)/gamma)\n",
    "equ_u"
   ]
  },
  {
   "cell_type": "code",
   "execution_count": 12,
   "id": "f306a53b",
   "metadata": {},
   "outputs": [
    {
     "data": {
      "text/latex": [
       "$\\displaystyle \\frac{b^{2} \\gamma^{2} \\left(rad + 1\\right)^{2}}{a^{2} \\left(\\gamma + 1\\right)^{2}}$"
      ],
      "text/plain": [
       "b**2*gamma**2*(rad + 1)**2/(a**2*(gamma + 1)**2)"
      ]
     },
     "execution_count": 12,
     "metadata": {},
     "output_type": "execute_result"
    }
   ],
   "source": [
    "equ_u2 = equ_u*equ_u\n",
    "equ_u2"
   ]
  },
  {
   "cell_type": "markdown",
   "id": "5e3abb13",
   "metadata": {},
   "source": [
    "\\begin{equation}\n",
    "u^2 = \n",
    "\\end{equation}"
   ]
  },
  {
   "cell_type": "markdown",
   "id": "2e94d053",
   "metadata": {},
   "source": [
    "### Eliminating $u$ using $M_x$"
   ]
  },
  {
   "cell_type": "markdown",
   "id": "606b0ff9",
   "metadata": {},
   "source": [
    "The local speed of sound is given as:\n",
    "\n",
    "\\begin{align}\n",
    "u_s &= \\sqrt{\\frac{\\gamma p}{\\rho}} \\\\\n",
    "    &= \\sqrt{\\frac{T(\\gamma - 1)}{\\gamma}}\n",
    "\\end{align}"
   ]
  },
  {
   "cell_type": "markdown",
   "id": "9d69d5d8",
   "metadata": {},
   "source": [
    "Using this result, we can define the axial Mach Number:\n",
    "\n",
    "\\begin{equation}\n",
    "M_x = \\frac{u}{u_s} = \\frac{u}{\\sqrt{\\frac{T(\\gamma-1)}{\\gamma}}}\n",
    "\\end{equation}"
   ]
  },
  {
   "cell_type": "markdown",
   "id": "cc36df7f",
   "metadata": {},
   "source": [
    "or:\n",
    "\n",
    "\\begin{equation}\n",
    "M_x^2 = \\frac{\\gamma u^2}{T(\\gamma - 1)}\n",
    "\\end{equation}"
   ]
  },
  {
   "cell_type": "markdown",
   "id": "ad046d54",
   "metadata": {},
   "source": [
    "or\n",
    "\n",
    "\\begin{equation}\n",
    "T(\\gamma - 1)M_x^2 = \\gamma \\frac{b^2 \\gamma^2(rad + 1)^2}{a^2(\\gamma + 1)^2}\n",
    "\\end{equation}"
   ]
  },
  {
   "cell_type": "markdown",
   "id": "ae8fda0c",
   "metadata": {},
   "source": [
    "But:\n",
    "\n",
    "\\begin{equation}\n",
    "T = \\frac{k}{1 + M_x^2\\frac{\\gamma - 1}{2}}\n",
    "\\end{equation}"
   ]
  },
  {
   "cell_type": "markdown",
   "id": "eb80c2af",
   "metadata": {},
   "source": [
    "\\begin{equation}\n",
    "T(\\gamma - 1)M_x^2 = \\gamma \n",
    "\\end{equation}"
   ]
  },
  {
   "cell_type": "code",
   "execution_count": 15,
   "id": "ec68c324",
   "metadata": {},
   "outputs": [],
   "source": [
    "xm2 = sp.symbols('xm2')"
   ]
  },
  {
   "cell_type": "code",
   "execution_count": 17,
   "id": "44a99878",
   "metadata": {},
   "outputs": [
    {
     "data": {
      "text/latex": [
       "$\\displaystyle \\frac{k}{\\frac{xm_{2} \\left(\\gamma - 1\\right)}{2} + 1}$"
      ],
      "text/plain": [
       "k/(xm2*(gamma - 1)/2 + 1)"
      ]
     },
     "execution_count": 17,
     "metadata": {},
     "output_type": "execute_result"
    }
   ],
   "source": [
    "T_s = k/(1 + xm2*(gamma - 1)/2)\n",
    "T_s"
   ]
  },
  {
   "cell_type": "code",
   "execution_count": 24,
   "id": "9c123fb4",
   "metadata": {},
   "outputs": [
    {
     "data": {
      "text/latex": [
       "$\\displaystyle 2 k + \\frac{- 4 a^{2} \\gamma^{2} k - 8 a^{2} \\gamma k - 4 a^{2} k - b^{2} \\gamma^{4} rad^{2} xm_{2} - 2 b^{2} \\gamma^{4} rad xm_{2} - b^{2} \\gamma^{4} xm_{2} + b^{2} \\gamma^{3} rad^{2} xm_{2} - 2 b^{2} \\gamma^{3} rad^{2} + 2 b^{2} \\gamma^{3} rad xm_{2} - 4 b^{2} \\gamma^{3} rad + b^{2} \\gamma^{3} xm_{2} - 2 b^{2} \\gamma^{3}}{a^{2} \\gamma^{3} xm_{2} + a^{2} \\gamma^{2} xm_{2} + 2 a^{2} \\gamma^{2} - a^{2} \\gamma xm_{2} + 4 a^{2} \\gamma - a^{2} xm_{2} + 2 a^{2}}$"
      ],
      "text/plain": [
       "2*k + (-4*a**2*gamma**2*k - 8*a**2*gamma*k - 4*a**2*k - b**2*gamma**4*rad**2*xm2 - 2*b**2*gamma**4*rad*xm2 - b**2*gamma**4*xm2 + b**2*gamma**3*rad**2*xm2 - 2*b**2*gamma**3*rad**2 + 2*b**2*gamma**3*rad*xm2 - 4*b**2*gamma**3*rad + b**2*gamma**3*xm2 - 2*b**2*gamma**3)/(a**2*gamma**3*xm2 + a**2*gamma**2*xm2 + 2*a**2*gamma**2 - a**2*gamma*xm2 + 4*a**2*gamma - a**2*xm2 + 2*a**2)"
      ]
     },
     "execution_count": 24,
     "metadata": {},
     "output_type": "execute_result"
    }
   ],
   "source": [
    "eq_mx = T_s*(gamma - 1)*xm2 - gamma*(b**2*gamma**2*(rad + 1)**2)/(a**2*(gamma + 1)**2)\n",
    "eq_mx.ratsimp()"
   ]
  },
  {
   "cell_type": "code",
   "execution_count": 25,
   "id": "7d15398b",
   "metadata": {},
   "outputs": [
    {
     "data": {
      "text/latex": [
       "$\\displaystyle \\frac{a^{2} k \\left(2 \\gamma - 2\\right)}{b^{2}} - \\gamma + 1$"
      ],
      "text/plain": [
       "a**2*k*(2*gamma - 2)/b**2 - gamma + 1"
      ]
     },
     "execution_count": 25,
     "metadata": {},
     "output_type": "execute_result"
    }
   ],
   "source": [
    "den = gamma*Phi_s - gamma + 1\n",
    "den"
   ]
  },
  {
   "cell_type": "code",
   "execution_count": null,
   "id": "6876cc1a",
   "metadata": {},
   "outputs": [],
   "source": []
  }
 ],
 "metadata": {
  "kernelspec": {
   "display_name": "Python 3 (ipykernel)",
   "language": "python",
   "name": "python3"
  },
  "language_info": {
   "codemirror_mode": {
    "name": "ipython",
    "version": 3
   },
   "file_extension": ".py",
   "mimetype": "text/x-python",
   "name": "python",
   "nbconvert_exporter": "python",
   "pygments_lexer": "ipython3",
   "version": "3.11.2"
  }
 },
 "nbformat": 4,
 "nbformat_minor": 5
}
